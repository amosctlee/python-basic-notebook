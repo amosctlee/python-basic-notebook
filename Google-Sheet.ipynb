{
 "cells": [
  {
   "cell_type": "code",
   "execution_count": null,
   "metadata": {},
   "outputs": [],
   "source": [
    "!pip install gspread"
   ]
  },
  {
   "cell_type": "code",
   "execution_count": null,
   "metadata": {},
   "outputs": [],
   "source": [
    "\"\"\"\n",
    "認證\n",
    "使用剛剛建立並下載的JSON檔案\n",
    "\n",
    "\"\"\"\n",
    "\n",
    "import gspread\n",
    "from google.oauth2.service_account import Credentials\n",
    "\n",
    "scopes = ['https://spreadsheets.google.com/feeds',\n",
    "         'https://www.googleapis.com/auth/drive']\n",
    "\n",
    "# 填寫金鑰檔案位置、名稱\n",
    "credentials = Credentials.from_service_account_file('ncu-ai-tutorial-47520ee70490.json', \n",
    "                                                    scopes=scopes)\n",
    "\n",
    "gc = gspread.authorize(credentials)"
   ]
  },
  {
   "cell_type": "code",
   "execution_count": null,
   "metadata": {},
   "outputs": [],
   "source": [
    "\"\"\"\n",
    "創建並分享Spreadsheet給自己的email帳號\n",
    "\n",
    "\"\"\"\n",
    "sh = gc.create('A new spreadsheet')\n",
    "\n",
    "sh.share('your@gmail.com', perm_type='user', role='owner')"
   ]
  },
  {
   "cell_type": "code",
   "execution_count": null,
   "metadata": {},
   "outputs": [],
   "source": [
    "\"\"\"\n",
    "開啟Spreadsheet 和 選擇Worksheet\n",
    "\n",
    "\"\"\"\n",
    "\n",
    "# 開啟要操作的Spreadsheet\n",
    "# spread_sheet = gc.open('test_gspread')\n",
    "# spread_sheet = gc.open_by_key('1z3mbhrUhIBno40_fGUnLr4AQhpO8AmgW5VEUzpSjICY')\n",
    "spread_sheet = gc.open_by_url('https://docs.google.com/spreadsheets/d/1z3mbhrUhIBno40_fGUnLr4AQhpO8AmgW5VEUzpSjICY/edit#gid=0')\n",
    "\n",
    "\n",
    "# 選擇要操作的Worksheet\n",
    "# work_sheet1 = spread_sheet.get_worksheet(0)\n",
    "# work_sheet1 = spread_sheet.worksheet('中央大學搜尋結果')\n",
    "work_sheet1 = spread_sheet.sheet1\n",
    "\n",
    "print(work_sheet1.get_all_records())"
   ]
  },
  {
   "cell_type": "code",
   "execution_count": null,
   "metadata": {},
   "outputs": [],
   "source": [
    "\"\"\"\n",
    "使用worksheets()方法列出此Spreadsheet中的所有Worksheet\n",
    "\n",
    "\"\"\"\n",
    "\n",
    "spread_sheet.worksheets()"
   ]
  },
  {
   "cell_type": "code",
   "execution_count": null,
   "metadata": {},
   "outputs": [],
   "source": [
    "\"\"\"\n",
    "新增與刪除worksheet\n",
    "\n",
    "\"\"\"\n",
    "\n",
    "worksheet2 = spread_sheet.add_worksheet(title='a new worksheet', rows=\"10\", cols=\"8\")\n",
    "\n",
    "# spread_sheet.del_worksheet(worksheet2)"
   ]
  },
  {
   "cell_type": "code",
   "execution_count": null,
   "metadata": {},
   "outputs": [],
   "source": [
    "\"\"\"\n",
    "取得整列或整欄的值\n",
    "\n",
    "\"\"\"\n",
    "\n",
    "print(work_sheet1.row_values(1))\n",
    "print(work_sheet1.col_values(2))"
   ]
  },
  {
   "cell_type": "code",
   "execution_count": null,
   "metadata": {},
   "outputs": [],
   "source": [
    "\"\"\"\n",
    "取得整個worksheet的值\n",
    "\n",
    "\"\"\"\n",
    "\n",
    "work_sheet1.get_all_values()"
   ]
  },
  {
   "cell_type": "code",
   "execution_count": null,
   "metadata": {},
   "outputs": [],
   "source": [
    "\"\"\"\n",
    "搜尋儲存格\n",
    "\n",
    "\"\"\"\n",
    "\n",
    "cell = work_sheet1.find('標題')\n",
    "print(cell, cell.row, cell.col, cell.value)\n",
    "\n",
    "cell_list = work_sheet1.findall('標題')\n",
    "print(cell_list)"
   ]
  },
  {
   "cell_type": "code",
   "execution_count": null,
   "metadata": {},
   "outputs": [],
   "source": [
    "\"\"\"\n",
    "更新儲存格\n",
    "\n",
    "\"\"\"\n",
    "\n",
    "print(work_sheet1.update('B5', 'Bingo!'))\n",
    "print(work_sheet1.update_cell(6, 3, 'Bingo 2!'))\n",
    "print(work_sheet1.update('A7:D9', [[1, 2, 3, 4], [5, 6, 7, 8], [9, 10, 11, 12]]))"
   ]
  },
  {
   "cell_type": "code",
   "execution_count": null,
   "metadata": {},
   "outputs": [],
   "source": [
    "\"\"\"\n",
    "調整格式設定值\n",
    "\n",
    "\"\"\"\n",
    "\n",
    "print(work_sheet1.format('A7:D9',\n",
    "                         {\n",
    "                            \"backgroundColor\": {\n",
    "                              \"red\": 0.9,\n",
    "                              \"green\": 0.4,\n",
    "                              \"blue\": 0.5\n",
    "                            },\n",
    "                            \"horizontalAlignment\": \"CENTER\",\n",
    "                            \"textFormat\": {\n",
    "                              \"foregroundColor\": {\n",
    "                                \"red\": 0.9,\n",
    "                                \"green\": 0.8,\n",
    "                                \"blue\": 0.7\n",
    "                              },\n",
    "                              \"fontSize\": 15,\n",
    "                              \"bold\": False\n",
    "                            }\n",
    "                        })\n",
    "     )"
   ]
  },
  {
   "cell_type": "code",
   "execution_count": null,
   "metadata": {},
   "outputs": [],
   "source": []
  },
  {
   "cell_type": "code",
   "execution_count": null,
   "metadata": {},
   "outputs": [],
   "source": []
  }
 ],
 "metadata": {
  "kernelspec": {
   "display_name": "Python 3",
   "language": "python",
   "name": "python3"
  },
  "language_info": {
   "codemirror_mode": {
    "name": "ipython",
    "version": 3
   },
   "file_extension": ".py",
   "mimetype": "text/x-python",
   "name": "python",
   "nbconvert_exporter": "python",
   "pygments_lexer": "ipython3",
   "version": "3.6.5"
  }
 },
 "nbformat": 4,
 "nbformat_minor": 2
}
