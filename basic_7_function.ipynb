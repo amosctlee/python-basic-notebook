{
 "cells": [
  {
   "cell_type": "code",
   "execution_count": null,
   "metadata": {},
   "outputs": [],
   "source": [
    "\"\"\"\n",
    "\n",
    "A function is a block of code which only runs when it is called.\n",
    "\n",
    "You can pass data, known as parameters, into a function.\n",
    "\n",
    "A function can return data as a result.\n",
    "\n",
    "\n",
    "https://www.w3schools.com/python/python_functions.asp\n",
    "\n",
    "\"\"\""
   ]
  },
  {
   "cell_type": "code",
   "execution_count": null,
   "metadata": {},
   "outputs": [],
   "source": [
    "\"\"\"\n",
    "\n",
    "直接看看一個 function 的長相與使用方式\n",
    "\n",
    "\"\"\"\n",
    "\n",
    "def my_first_func():\n",
    "    print('我是函數裡的程式碼')\n",
    "    print('呼叫我一次，我就會說一次')\n",
    "\n",
    "    \n",
    "my_first_func()\n",
    "# my_first_func()\n",
    "# my_first_func()\n",
    "# my_first_func()\n",
    "# my_first_func()\n",
    "\n",
    "# for i in range(10):\n",
    "#     my_first_func()"
   ]
  },
  {
   "cell_type": "code",
   "execution_count": null,
   "metadata": {},
   "outputs": [],
   "source": [
    "\"\"\"\n",
    "\n",
    "有回傳值的function\n",
    "\n",
    "可以用變數把回傳值裝起來\n",
    "\n",
    "\"\"\"\n",
    "\n",
    "\n",
    "def give_you_a_number():\n",
    "    return 777\n",
    "\n",
    "x = give_you_a_number()\n",
    "\n",
    "print(x)"
   ]
  },
  {
   "cell_type": "code",
   "execution_count": null,
   "metadata": {},
   "outputs": [],
   "source": [
    "\"\"\"\n",
    "\n",
    "設定參數\n",
    "\n",
    "讓function 多一點變化\n",
    "\n",
    "\"\"\"\n",
    "\n",
    "def say_hello(name):\n",
    "    \n",
    "    str_in_func = \"hey, {}. how's it going.\".format(name)\n",
    "    \n",
    "    return str_in_func\n",
    "    \n",
    "print(say_hello('Annie'))\n",
    "print(say_hello('Lily'))\n",
    "\n",
    "# print(str_in_func)"
   ]
  },
  {
   "cell_type": "code",
   "execution_count": null,
   "metadata": {},
   "outputs": [],
   "source": [
    "\"\"\"\n",
    "\n",
    "多個參數 與 多個回傳值\n",
    "\n",
    "\"\"\"\n",
    "\n",
    "def calculator(a, b):\n",
    "    \n",
    "    addition = a + b\n",
    "    subtraction = a - b\n",
    "    multiplication = a * b\n",
    "    \n",
    "    if b != 0:\n",
    "        division = a / b\n",
    "    else:\n",
    "        division = None\n",
    "    \n",
    "    return addition, subtraction, multiplication, division\n",
    "\n",
    "\n",
    "print(calculator(10, 2))\n",
    "\n",
    "print(calculator(15, 2))\n",
    "\n",
    "print(calculator(15, 0))"
   ]
  },
  {
   "cell_type": "code",
   "execution_count": null,
   "metadata": {},
   "outputs": [],
   "source": [
    "\"\"\"\n",
    "\n",
    "function 內的變數在function 結束時就消失\n",
    "\n",
    "function 外面無法使用\n",
    "\n",
    "function 可以讓程式碼重複使用\n",
    "\n",
    "幫function 取個好名字，可以讓複雜的邏輯變成易於使用的功能\n",
    "\n",
    "    例如：內建的函數\n",
    "\n",
    "\"\"\""
   ]
  },
  {
   "cell_type": "code",
   "execution_count": null,
   "metadata": {},
   "outputs": [],
   "source": [
    "\"\"\"\n",
    "\n",
    "函數的練習-power\n",
    "寫一函數power(x, n)用來計算x的n次方。\n",
    "說明：power (5,3)即計算 5 的 3 次方。\n",
    "\n",
    "\"\"\""
   ]
  },
  {
   "cell_type": "code",
   "execution_count": null,
   "metadata": {},
   "outputs": [],
   "source": [
    "\"\"\"\n",
    "\n",
    "函數的練習-sum\n",
    "寫一函數sum(n)用來計算2+4+6…+2n的值。\n",
    "\n",
    "\"\"\""
   ]
  }
 ],
 "metadata": {
  "kernelspec": {
   "display_name": "Python 3",
   "language": "python",
   "name": "python3"
  },
  "language_info": {
   "codemirror_mode": {
    "name": "ipython",
    "version": 3
   },
   "file_extension": ".py",
   "mimetype": "text/x-python",
   "name": "python",
   "nbconvert_exporter": "python",
   "pygments_lexer": "ipython3",
   "version": "3.6.5"
  }
 },
 "nbformat": 4,
 "nbformat_minor": 2
}
