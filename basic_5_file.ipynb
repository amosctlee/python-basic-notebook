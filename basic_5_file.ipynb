{
 "cells": [
  {
   "cell_type": "code",
   "execution_count": null,
   "metadata": {},
   "outputs": [],
   "source": [
    "\"\"\"\n",
    "\n",
    "紀錄，是一種習慣\n",
    "\n",
    "紀錄，是一種生活\n",
    "\n",
    "紀錄，把互動留下，需要時想起\n",
    "\n",
    "\n",
    "紀錄這麼重要，我們一定要讓Python 幫我們管理紀錄\n",
    "\n",
    "\n",
    "\"\"\"\n",
    "\n"
   ]
  },
  {
   "cell_type": "code",
   "execution_count": null,
   "metadata": {},
   "outputs": [],
   "source": [
    "\"\"\"\n",
    "寫入操作\n",
    "\n",
    "write -> w\n",
    "\n",
    "\"\"\"\n",
    "\n",
    "with open('檔案名稱.txt', 'w', encoding='utf-8') as f:\n",
    "    f.write('hello, 你好')\n",
    "    f.write('我是 Lucien !')"
   ]
  },
  {
   "cell_type": "code",
   "execution_count": null,
   "metadata": {},
   "outputs": [],
   "source": [
    "\"\"\"\n",
    "\n",
    "還記得換行符號嗎？\n",
    "\n",
    "用它來再試一次吧！\n",
    "\n",
    "\\n\n",
    "\n",
    "\"\"\"\n",
    "\n"
   ]
  },
  {
   "cell_type": "code",
   "execution_count": null,
   "metadata": {},
   "outputs": [],
   "source": [
    "\"\"\"\n",
    "\n",
    "日記不能只有昨天\n",
    "\n",
    "要有以前的每一天\n",
    "\n",
    "append -> a\n",
    "\n",
    "\"\"\"\n",
    "\n",
    "\n",
    "with open('檔案名稱.txt', 'a', encoding='utf-8') as f:\n",
    "    f.write('今天我們玩紅綠燈\\n')\n",
    "    f.write('真好玩！\\n')"
   ]
  },
  {
   "cell_type": "code",
   "execution_count": null,
   "metadata": {},
   "outputs": [],
   "source": [
    "\"\"\"\n",
    "練習寫入 - 收集用戶資料\n",
    "\n",
    "設計一個程式，讓使用者輸入姓名、電話、生日\n",
    "\n",
    "並將使用者的資料存進檔案中\n",
    "\n",
    "\"\"\"\n",
    "\n"
   ]
  },
  {
   "cell_type": "code",
   "execution_count": null,
   "metadata": {},
   "outputs": [],
   "source": []
  },
  {
   "cell_type": "code",
   "execution_count": null,
   "metadata": {},
   "outputs": [],
   "source": [
    "\"\"\"\n",
    "讀取檔案 - 一次 n 個字\n",
    "\n",
    "\n",
    "https://www.w3schools.com/python/python_file_open.asp\n",
    "\"\"\"\n",
    "\n",
    "with open('檔案名稱.txt', 'r', encoding='utf-8') as f:\n",
    "    print(f.read(3))\n",
    "    print(\"----\")\n",
    "    print(f.read(2))\n",
    "    print(\"----\")\n",
    "    print(f.read(10))"
   ]
  },
  {
   "cell_type": "code",
   "execution_count": null,
   "metadata": {},
   "outputs": [],
   "source": [
    "\"\"\"\n",
    "讀取檔案 - 一次一行\n",
    "\n",
    "\n",
    "https://www.w3schools.com/python/python_file_open.asp\n",
    "\"\"\"\n",
    "\n",
    "with open('檔案名稱.txt', 'r', encoding='utf-8') as f:\n",
    "    print(f.readline(), end=\"\")\n",
    "    print(f.readline(), end=\"\")\n",
    "    print(f.readline(), end=\"\")\n"
   ]
  },
  {
   "cell_type": "code",
   "execution_count": null,
   "metadata": {},
   "outputs": [],
   "source": [
    "\"\"\"\n",
    "檔案讀取 - 一次全讀\n",
    "\n",
    "一行一行放在list中\n",
    "\n",
    "\n",
    "https://docs.python.org/3/library/io.html?highlight=readlines#io.IOBase.readlines\n",
    "\"\"\"\n",
    "\n",
    "with open('檔案名稱.txt', 'r', encoding='utf-8') as f:\n",
    "    print(f.readlines())\n",
    "    print(f.readlines())  # 已經讀不到了\n",
    "    "
   ]
  },
  {
   "cell_type": "code",
   "execution_count": null,
   "metadata": {},
   "outputs": [],
   "source": [
    "\"\"\"\n",
    "\n",
    "既然可以一次讀多行\n",
    "想必也可以一次寫多行\n",
    "\n",
    "list 很好用，請搭配list 做使用\n",
    "\n",
    "\n",
    "writelines(lines)\n",
    "\n",
    "    Write a list of lines to the stream. \n",
    "    Line separators are not added, \n",
    "    so it is usual for each of the lines provided to have a line separator at the end.\n",
    "\n",
    "\n",
    "https://docs.python.org/3/library/io.html#io.IOBase.writelines\n",
    "\n",
    "\"\"\"\n",
    "\n",
    "\n",
    "with open('檔案名稱.txt', 'a', encoding='utf-8') as f:\n",
    "    lines = ['Python\\n', 'Linebot\\n', 'so easy~\\n']  # list可以寫成動態的\n",
    "    f.writelines(lines)"
   ]
  },
  {
   "cell_type": "code",
   "execution_count": null,
   "metadata": {},
   "outputs": [],
   "source": [
    "\"\"\"\n",
    "\n",
    "有一種常用的檔案格式，大家一定有用過\n",
    "\n",
    "\n",
    "https://zh.wikipedia.org/wiki/%E9%80%97%E5%8F%B7%E5%88%86%E9%9A%94%E5%80%BC\n",
    "    逗號分隔值（Comma-Separated Values，CSV，\n",
    "                有時也稱為字元分隔值，\n",
    "                因為分隔字元也可以不是逗號）\n",
    "                \n",
    "    其檔案以純文字形式儲存表格資料（數字和文字）。\n",
    "\"\"\""
   ]
  },
  {
   "cell_type": "code",
   "execution_count": null,
   "metadata": {},
   "outputs": [],
   "source": [
    "\"\"\"\n",
    "\n",
    "我們要處理逗號分隔檔(csv)，需使用內建的 csv 模組\n",
    "\n",
    "1. 載入模組\n",
    "2. 開啟檔案\n",
    "3. 使用csv.reader 讀取\n",
    "4. 可以用迴圈一行一行讀出\n",
    "\n",
    "\n",
    "練習用csv 下載：\n",
    "    政府資料開放名台\n",
    "    https://data.gov.tw/dataset/6091\n",
    "\"\"\"\n",
    "\n",
    "import csv\n",
    "\n",
    "\n",
    "with open('u1_new.csv', 'r', encoding='utf-8') as f:\n",
    "    for line in csv.reader(f):\n",
    "        print(line)"
   ]
  },
  {
   "cell_type": "code",
   "execution_count": null,
   "metadata": {},
   "outputs": [],
   "source": [
    "\"\"\"\n",
    "\n",
    "若要寫入csv\n",
    "也可以請csv 模組來幫忙\n",
    "\n",
    "\"\"\"\n",
    "\n",
    "import csv\n",
    "\n",
    "with open('test_write.csv', 'w', encoding='utf-8', newline='') as csvfile:\n",
    "    csv_writer = csv.writer(csvfile)\n",
    "    csv_writer.writerow(['abc', 'def', 'ghi', 'jkl'])\n",
    "    csv_writer.writerow(['good', 'cool', 'excellent'])"
   ]
  },
  {
   "cell_type": "code",
   "execution_count": null,
   "metadata": {},
   "outputs": [],
   "source": [
    "\"\"\"\n",
    "\n",
    "如果文字裡有逗號怎麼辦？！\n",
    "\n",
    "\"\"\"\n",
    "\n",
    "import csv\n",
    "\n",
    "with open('test_write.csv', 'w', encoding='utf-8', newline='') as csvfile:\n",
    "    csv_writer = csv.writer(csvfile)\n",
    "    csv_writer.writerow(['abc', 'def', 'ghi', 'jkl'])\n",
    "    csv_writer.writerow(['good', 'cool', 'excelent'])\n",
    "    csv_writer.writerow(['嗨', '你好', '這裡,有逗號'])"
   ]
  },
  {
   "cell_type": "code",
   "execution_count": null,
   "metadata": {},
   "outputs": [],
   "source": []
  },
  {
   "cell_type": "code",
   "execution_count": null,
   "metadata": {},
   "outputs": [],
   "source": []
  },
  {
   "cell_type": "code",
   "execution_count": null,
   "metadata": {},
   "outputs": [],
   "source": [
    "\"\"\"\n",
    "進階csv\n",
    "\n",
    "如果想使用csv 模子來解析字串\n",
    "使用io.StringIO('你的字串') 函數，將你的字串轉換成檔案串流\n",
    "\n",
    "\"\"\"\n",
    "\n",
    "import csv\n",
    "import io\n",
    "\n",
    "# 準備多行字串\n",
    "your_str = '''id,name,color\n",
    "1,lee,red\n",
    "2,chen,yellow\n",
    "3,liu,grean\n",
    "'''\n",
    "\n",
    "# 把字串轉成檔案串流型式\n",
    "str_io = io.StringIO(your_str)\n",
    "\n",
    "# # 用迴圈讀取\n",
    "# for i in csv.reader(str_io):\n",
    "#     print(i)\n",
    "    \n",
    "# 或是可以直接轉成list\n",
    "list(csv.reader(str_io))"
   ]
  },
  {
   "cell_type": "code",
   "execution_count": null,
   "metadata": {},
   "outputs": [],
   "source": []
  }
 ],
 "metadata": {
  "kernelspec": {
   "display_name": "Python 3",
   "language": "python",
   "name": "python3"
  },
  "language_info": {
   "codemirror_mode": {
    "name": "ipython",
    "version": 3
   },
   "file_extension": ".py",
   "mimetype": "text/x-python",
   "name": "python",
   "nbconvert_exporter": "python",
   "pygments_lexer": "ipython3",
   "version": "3.6.5"
  }
 },
 "nbformat": 4,
 "nbformat_minor": 2
}
