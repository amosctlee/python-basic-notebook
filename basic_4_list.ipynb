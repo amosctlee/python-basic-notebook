{
 "cells": [
  {
   "cell_type": "code",
   "execution_count": null,
   "metadata": {},
   "outputs": [],
   "source": [
    "\"\"\"\n",
    "\n",
    "一種裝載數個物件的容器\n",
    "\n",
    "它可以接受新成員\n",
    "\n",
    "它也可以歡送舊成員\n",
    "\n",
    "每個成員都有屬於自己的編號\n",
    "\n",
    "按照編號排隊\n",
    "\n",
    "一一點名\n",
    "\n",
    "是它們最快樂的時光\n",
    "\n",
    "\n",
    "                -- list 串列\n",
    "\n",
    "\"\"\""
   ]
  },
  {
   "cell_type": "code",
   "execution_count": null,
   "metadata": {},
   "outputs": [],
   "source": [
    "# https://www.w3schools.com/python/python_lists.asp"
   ]
  },
  {
   "cell_type": "code",
   "execution_count": null,
   "metadata": {},
   "outputs": [],
   "source": [
    "\"\"\"\n",
    "準備一個list\n",
    "裡面的元素用逗號 , 分開\n",
    "\n",
    "\"\"\"\n",
    "\n",
    "list1 = ['Python', 'Java', 'Javascript', 'C#']\n",
    "print(list1)\n",
    "print(type(list1))\n",
    "\n",
    "# print(list1[0])\n",
    "# print(list1[1])\n",
    "# print(list1[2])\n",
    "# print(list1[3])\n",
    "# print(list1[-2])\n",
    "\n",
    "# 猜猜它的長度\n",
    "# print(len(list1))"
   ]
  },
  {
   "cell_type": "code",
   "execution_count": null,
   "metadata": {},
   "outputs": [],
   "source": [
    "\"\"\"\n",
    "有人在家嗎？\n",
    "\n",
    "in\n",
    "not in\n",
    "\n",
    "\"\"\"\n",
    "\n",
    "list2 = ['Lucien', 'Mary', 'Febby', 'Yummy']\n",
    "print(list2)\n",
    "\n",
    "# print('Lucien' in list2)\n",
    "# print('Andy' in list2)\n",
    "\n",
    "# print('Andy' not in list2)\n",
    "# print('Lucien' not in list2)\n"
   ]
  },
  {
   "cell_type": "code",
   "execution_count": null,
   "metadata": {},
   "outputs": [],
   "source": [
    "\"\"\"\n",
    "如果剛好都是數字\n",
    "\n",
    "\"\"\"\n",
    "\n",
    "list3 = [45, 65, 79, 94, 23]\n",
    "print(sum(list3))\n",
    "# print(max(list3))\n",
    "# print(min(list3))\n",
    "# print(79 in list3)"
   ]
  },
  {
   "cell_type": "code",
   "execution_count": null,
   "metadata": {},
   "outputs": [],
   "source": [
    "\"\"\"\n",
    "串列拼接\n",
    "\n",
    "\"\"\"\n",
    "\n",
    "\n",
    "print(list2 + list3)\n",
    "\n",
    "\n",
    "# print(list2 * 2)  \n"
   ]
  },
  {
   "cell_type": "code",
   "execution_count": null,
   "metadata": {},
   "outputs": [],
   "source": [
    "\"\"\"\n",
    "\n",
    "進階點名法：串列切片\n",
    "\n",
    "\"\"\"\n",
    "\n",
    "list4 = [12, 34, 56, 78, 90, 101, 202, 303]\n",
    "print(list4)\n",
    "\n",
    "print(list4[0:3])\n",
    "print(list4[5:])\n",
    "print(list4[:4])\n",
    "print(list4[-3:])\n",
    "print(list4[2:-2])\n",
    "print(list4[:])\n",
    "\n",
    "\n",
    "# print(list4[3:0])"
   ]
  },
  {
   "cell_type": "code",
   "execution_count": null,
   "metadata": {},
   "outputs": [],
   "source": [
    "\"\"\"\n",
    "list 的常用方法\n",
    "\n",
    "添加元素\n",
    "\n",
    "list.append(obj)\n",
    "\n",
    "\"\"\"\n",
    "\n",
    "list1 = []\n",
    "list1.append(77)\n",
    "print(list1)\n",
    "\n",
    "list1.append(34)\n",
    "list1.append(58)\n",
    "list1.append(92)\n",
    "list1.append(34)\n",
    "\n",
    "print(list1)"
   ]
  },
  {
   "cell_type": "code",
   "execution_count": null,
   "metadata": {},
   "outputs": [],
   "source": [
    "\"\"\"\n",
    "想添加在指定位置\n",
    "\n",
    "list.insert(index, obj)\n",
    "\n",
    "\"\"\"\n",
    "\n",
    "list1.insert(2, 'apple')\n",
    "print(list1)"
   ]
  },
  {
   "cell_type": "code",
   "execution_count": null,
   "metadata": {},
   "outputs": [],
   "source": [
    "\"\"\"\n",
    "利用位置(index)從list 中取得一個元素\n",
    "\n",
    "list.pop(pos)\n",
    "\n",
    "\n",
    "預設取最後一位 [-1]\n",
    "\n",
    "\"\"\"\n",
    "\n",
    "print(list1.pop(2))\n",
    "print(list1)\n",
    "\n",
    "print(list1.pop())\n",
    "print(list1)"
   ]
  },
  {
   "cell_type": "code",
   "execution_count": null,
   "metadata": {},
   "outputs": [],
   "source": [
    "\"\"\"\n",
    "兩個list 的練習\n",
    "\n",
    "\"\"\"\n",
    "\n",
    "list_1 = [1, 2, 3]\n",
    "\n",
    "\n",
    "list_1.append([4, 5, 6])\n",
    "\n",
    "print(list_1)\n"
   ]
  },
  {
   "cell_type": "code",
   "execution_count": null,
   "metadata": {},
   "outputs": [],
   "source": [
    "\"\"\"\n",
    "假如要串接\n",
    "請使用extend\n",
    "\n",
    "list.extend(iterable)\n",
    "\n",
    "\"\"\"\n",
    "\n",
    "list_2 = [1, 2, 3]\n",
    "\n",
    "list_2.extend([4, 5, 6])\n",
    "\n",
    "print(list_2)\n"
   ]
  },
  {
   "cell_type": "code",
   "execution_count": null,
   "metadata": {},
   "outputs": [],
   "source": [
    "\"\"\"\n",
    "list 常常與字串搭配\n",
    "\n",
    "這個很常用\n",
    "來我們來練習 分解字串\n",
    "\n",
    "string.split(separator, maxsplit)\n",
    "\n",
    "\"\"\"\n",
    "\n",
    "str1 = 'Python Java C C#'\n",
    "list1 = str1.split()\n",
    "print(list1)\n",
    "\n",
    "\n",
    "str1 = 'Python,Java,C,C#'\n",
    "list1 = str1.split(',')\n",
    "print(list1)\n"
   ]
  },
  {
   "cell_type": "code",
   "execution_count": null,
   "metadata": {},
   "outputs": [],
   "source": [
    "\"\"\"\n",
    "你們一定玩過拼圖\n",
    "\n",
    "拆了又拼，拼了又拆\n",
    "\n",
    "字串跟串列最喜歡這樣子操作了\n",
    "\n",
    "string.join(iterable)\n",
    "\n",
    "\"\"\"\n",
    "\n",
    "my_list = [\"John\", \"Peter\", \"Vicky\"]\n",
    "\n",
    "x = \"#\".join(my_list)\n",
    "\n",
    "print(x)"
   ]
  },
  {
   "cell_type": "code",
   "execution_count": null,
   "metadata": {},
   "outputs": [],
   "source": []
  },
  {
   "cell_type": "code",
   "execution_count": null,
   "metadata": {},
   "outputs": [],
   "source": [
    "\"\"\"\n",
    "Python 經典操作\n",
    "\n",
    "list 搭配 迴圈\n",
    "\n",
    "請看過，了解邏輯就好\n",
    "\n",
    "\"\"\"\n",
    "\n",
    "\n",
    "your_list = ['chocolate', 'cookie', 'candy', 'chicken', 'cake']\n",
    "\n",
    "print('---第一種---')\n",
    "\n",
    "for i in range(len(your_list)):\n",
    "    print(your_list[i])\n",
    "\n",
    "print('---第一種---')\n",
    "\n",
    "\n",
    "# print('---第二種---')\n",
    "\n",
    "# for val in your_list:\n",
    "#     print(val)\n",
    "    \n",
    "# print('---第二種---')\n",
    "\n"
   ]
  },
  {
   "cell_type": "code",
   "execution_count": null,
   "metadata": {},
   "outputs": [],
   "source": []
  },
  {
   "cell_type": "code",
   "execution_count": null,
   "metadata": {},
   "outputs": [],
   "source": [
    "import random\n",
    "\n",
    "test_list = []\n",
    "\n",
    "for i in range(6):\n",
    "    test_list.append(random.randint(1, 100))\n",
    "\n",
    "print(test_list)\n"
   ]
  },
  {
   "cell_type": "code",
   "execution_count": null,
   "metadata": {},
   "outputs": [],
   "source": []
  }
 ],
 "metadata": {
  "kernelspec": {
   "display_name": "Python 3",
   "language": "python",
   "name": "python3"
  },
  "language_info": {
   "codemirror_mode": {
    "name": "ipython",
    "version": 3
   },
   "file_extension": ".py",
   "mimetype": "text/x-python",
   "name": "python",
   "nbconvert_exporter": "python",
   "pygments_lexer": "ipython3",
   "version": "3.6.5"
  }
 },
 "nbformat": 4,
 "nbformat_minor": 2
}
