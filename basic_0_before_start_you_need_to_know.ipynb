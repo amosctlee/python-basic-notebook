{
 "cells": [
  {
   "cell_type": "code",
   "execution_count": 3,
   "metadata": {},
   "outputs": [
    {
     "name": "stdout",
     "output_type": "stream",
     "text": [
      "大家好，這裡會執行！\n",
      "這裡也會執行\n"
     ]
    }
   ],
   "source": [
    "\"\"\"\n",
    "你看到的python 檔案裡面有兩種東西\n",
    "    一種是機器會執行的，我們稱為程式碼\n",
    "    另一種是給人看，但機器不執行的，我們稱為註解\n",
    "\n",
    "\"\"\"\n",
    "\n",
    "# 井字號開頭，後面的字就不會執行\n",
    "print(\"大家好，這裡會執行！\")  # 也可以接在程式碼後面\n",
    "\n",
    "'''\n",
    "三個單引號，或三個雙引號\n",
    "代表多行字串\n",
    "也可以用來當註解使用\n",
    "\n",
    "'''\n",
    "\n",
    "print(\"這裡也會執行\")"
   ]
  },
  {
   "cell_type": "code",
   "execution_count": 2,
   "metadata": {},
   "outputs": [
    {
     "name": "stdout",
     "output_type": "stream",
     "text": [
      "哈囉 \n",
      "你好\n"
     ]
    }
   ],
   "source": [
    "\"\"\"\n",
    "為了讓我們方便操作資料，我們會把資料放在一個容器裡面來使用\n",
    "\n",
    "我們把這個容器稱為變數 (variable)\n",
    "\n",
    "    變數的名字可以包含: A-Z, a-z, 0-9, _\n",
    "    區分大小寫\n",
    "    不可數字開頭\n",
    "\n",
    "例如：\n",
    "x = 10\n",
    "\n",
    "等號(=) 在Python 中，不是相等的意思，而是賦值的意思(將 10 這個值賦予變數 x)\n",
    "以上範例的操作我們也可以稱為：定義變數\n",
    "\n",
    "\"\"\"\n",
    "\n",
    "a_1 = \"哈囉 \"\n",
    "b_2 = \"你好\"\n",
    "\n",
    "print(a_1)\n",
    "print(b_2)\n",
    "\n",
    "# 變數可以操作！\n",
    "# print(a_1 + b_2)\n"
   ]
  },
  {
   "cell_type": "code",
   "execution_count": 1,
   "metadata": {},
   "outputs": [
    {
     "ename": "NameError",
     "evalue": "name 'not_defined' is not defined",
     "output_type": "error",
     "traceback": [
      "\u001b[1;31m-------------------------------------------\u001b[0m",
      "\u001b[1;31mNameError\u001b[0m Traceback (most recent call last)",
      "\u001b[1;32m<ipython-input-1-78abdb3e93f0>\u001b[0m in \u001b[0;36m<module>\u001b[1;34m\u001b[0m\n\u001b[0;32m      4\u001b[0m \"\"\"\n\u001b[0;32m      5\u001b[0m \u001b[1;33m\u001b[0m\u001b[0m\n\u001b[1;32m----> 6\u001b[1;33m \u001b[0mprint\u001b[0m\u001b[1;33m(\u001b[0m\u001b[0mnot_defined\u001b[0m\u001b[1;33m)\u001b[0m\u001b[1;33m\u001b[0m\u001b[0m\n\u001b[0m",
      "\u001b[1;31mNameError\u001b[0m: name 'not_defined' is not defined"
     ]
    }
   ],
   "source": [
    "\"\"\"\n",
    "假如我們沒有定義變數，我們就無法使用變數\n",
    "\n",
    "\"\"\"\n",
    "\n",
    "print(not_defined)\n"
   ]
  },
  {
   "cell_type": "code",
   "execution_count": 7,
   "metadata": {},
   "outputs": [
    {
     "name": "stdout",
     "output_type": "stream",
     "text": [
      "['False', 'None', 'True', 'and', 'as', 'assert', 'break', 'class', 'continue', 'def', 'del', 'elif', 'else', 'except', 'finally', 'for', 'from', 'global', 'if', 'import', 'in', 'is', 'lambda', 'nonlocal', 'not', 'or', 'pass', 'raise', 'return', 'try', 'while', 'with', 'yield']\n"
     ]
    }
   ],
   "source": [
    "\"\"\"\n",
    "Python 中有保留一些特殊的關鍵字，他們含有特殊功能\n",
    "\n",
    "我們不能用這些字來當變數名稱\n",
    "\n",
    "\"\"\"\n",
    "\n",
    "import keyword\n",
    "\n",
    "print(keyword.kwlist)"
   ]
  },
  {
   "cell_type": "code",
   "execution_count": null,
   "metadata": {},
   "outputs": [],
   "source": []
  }
 ],
 "metadata": {
  "kernelspec": {
   "display_name": "Python 3",
   "language": "python",
   "name": "python3"
  },
  "language_info": {
   "codemirror_mode": {
    "name": "ipython",
    "version": 3
   },
   "file_extension": ".py",
   "mimetype": "text/x-python",
   "name": "python",
   "nbconvert_exporter": "python",
   "pygments_lexer": "ipython3",
   "version": "3.6.5"
  }
 },
 "nbformat": 4,
 "nbformat_minor": 2
}
