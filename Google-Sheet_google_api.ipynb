{
 "cells": [
  {
   "cell_type": "code",
   "execution_count": null,
   "metadata": {},
   "outputs": [],
   "source": [
    "!pip install gspread"
   ]
  },
  {
   "cell_type": "code",
   "execution_count": null,
   "metadata": {},
   "outputs": [],
   "source": [
    "\"\"\"\n",
    "\n",
    "準備流程：\n",
    "1. 至 Google APIs 頁面建立專案：https://console.developers.google.com/projectselector2/apis/dashboard\n",
    "2. 啟用Google Drive API 與Google Sheets API\n",
    "3. 建立服務帳戶憑證與金鑰，並下載JSON金鑰檔案\n",
    "4. 到自己的Google Drive 建立一個 Google 試算表，並分享給剛才建立的服務帳戶\n",
    "5. (選用) 在試算表中第一行預先定義欄位名稱\n",
    "\n",
    "\n",
    "\"\"\""
   ]
  },
  {
   "cell_type": "code",
   "execution_count": null,
   "metadata": {},
   "outputs": [],
   "source": [
    "\"\"\"\n",
    "Google 試算表概念\n",
    "\n",
    "    一個spreadsheet 可以有多個worksheets\n",
    "    Worksheets 是由columns 和 rows 組成\n",
    "    最小的單位為cell，也就是一個儲存格\n",
    "    你可以使用gspread 套件來取得cell的值\n",
    "    Spreadsheet > Worksheet > Row or Column > Cell\n",
    "\n",
    "\n",
    "\"\"\""
   ]
  },
  {
   "cell_type": "code",
   "execution_count": null,
   "metadata": {},
   "outputs": [],
   "source": [
    "\"\"\"\n",
    "認證\n",
    "使用剛剛建立並下載的JSON檔案\n",
    "\n",
    "\"\"\"\n",
    "\n",
    "import gspread\n",
    "from google.oauth2.service_account import Credentials\n",
    "\n",
    "scopes = ['https://spreadsheets.google.com/feeds',\n",
    "         'https://www.googleapis.com/auth/drive']\n",
    "\n",
    "# 填寫金鑰檔案位置、名稱\n",
    "credentials = Credentials.from_service_account_file('linebot-google-credentials.json', \n",
    "                                                    scopes=scopes)\n",
    "\n",
    "gc = gspread.authorize(credentials)"
   ]
  },
  {
   "cell_type": "code",
   "execution_count": null,
   "metadata": {},
   "outputs": [],
   "source": [
    "\"\"\"\n",
    "開啟Spreadsheet\n",
    "\n",
    "三種方式\n",
    "    使用試算表名稱\n",
    "    使用Key(URL中取得)\n",
    "    使用URL\n",
    "\n",
    "\"\"\"\n",
    "\n",
    "\n",
    "# spread_sheet = gc.open('test_gspread')\n",
    "spread_sheet = gc.open_by_key('1R204_GxJofHF4J444uUdD8L8xFqfbboAsCSabRCbBcw')\n",
    "# spread_sheet = gc.open_by_url('https://docs.google.com/spreadsheets/d/1R204_GxJofHF4J444uUdD8L8xFqfbboAsCSabRCbBcw/edit#gid=0')\n",
    "\n",
    "\n",
    "print(spread_sheet)"
   ]
  },
  {
   "cell_type": "code",
   "execution_count": null,
   "metadata": {},
   "outputs": [],
   "source": [
    "\"\"\"\n",
    "新增與刪除worksheet\n",
    "\n",
    "\"\"\"\n",
    "\n",
    "worksheet2 = spread_sheet.add_worksheet(title='a new worksheet', rows=\"30\", cols=\"15\")\n",
    "\n",
    "# spread_sheet.del_worksheet(worksheet2)"
   ]
  },
  {
   "cell_type": "code",
   "execution_count": null,
   "metadata": {},
   "outputs": [],
   "source": [
    "\"\"\"\n",
    "\n",
    "列出此Spreadsheet中的所有Worksheet\n",
    "\n",
    "使用worksheets()方法\n",
    "\n",
    "\"\"\"\n",
    "\n",
    "spread_sheet.worksheets()"
   ]
  },
  {
   "cell_type": "code",
   "execution_count": null,
   "metadata": {},
   "outputs": [],
   "source": [
    "\"\"\"\n",
    "選擇要操作的Worksheet\n",
    "\n",
    "三種方式\n",
    "    使用index (從0開始算)\n",
    "    使用名稱\n",
    "    使用sheet1取得第一個\n",
    "\n",
    "\"\"\"\n",
    "\n",
    "\n",
    "\n",
    "# work_sheet1 = spread_sheet.get_worksheet(0)\n",
    "# work_sheet1 = spread_sheet.worksheet('機器人')\n",
    "work_sheet1 = spread_sheet.sheet1\n",
    "\n",
    "print(work_sheet1.get_all_records())"
   ]
  },
  {
   "cell_type": "code",
   "execution_count": null,
   "metadata": {},
   "outputs": [],
   "source": [
    "\"\"\"\n",
    "取得整列或整欄的值\n",
    "\n",
    "https://gspread.readthedocs.io/en/latest/user-guide.html#getting-all-values-from-a-row-or-a-column\n",
    "\"\"\"\n",
    "\n",
    "print(work_sheet1.row_values(1))\n",
    "print(work_sheet1.col_values(2))"
   ]
  },
  {
   "cell_type": "code",
   "execution_count": null,
   "metadata": {},
   "outputs": [],
   "source": [
    "\"\"\"\n",
    "取得整個worksheet的值\n",
    "\n",
    "跟剛才的get_all_records() 不一樣\n",
    "剛才的會是 \"欄位名稱\": \"欄位值\" 的 key value 格式\n",
    "\n",
    "get_all_values() 回傳的是全部的 Rows\n",
    "\n",
    "\"\"\"\n",
    "\n",
    "work_sheet1.get_all_values()"
   ]
  },
  {
   "cell_type": "code",
   "execution_count": null,
   "metadata": {},
   "outputs": [],
   "source": [
    "\"\"\"\n",
    "新增一筆紀錄\n",
    "\n",
    "新增在特定 row\n",
    "\n",
    "    insert_row(values, index=插入第幾行)\n",
    "\n",
    "\n",
    "https://gspread.readthedocs.io/en/latest/api.html#gspread.models.Worksheet.insert_row\n",
    "\"\"\"\n",
    "\n",
    "prepared_list = [\"hi\", \"I\", \"am\", \"student.\"]\n",
    "\n",
    "work_sheet1.insert_row(prepared_list, index=2)"
   ]
  },
  {
   "cell_type": "code",
   "execution_count": null,
   "metadata": {},
   "outputs": [],
   "source": [
    "\"\"\"\n",
    "新增一筆紀錄 (第二種方式)\n",
    "\n",
    "在最後一 row 新增\n",
    "\n",
    "    append_row(values)\n",
    "\n",
    "\n",
    "https://gspread.readthedocs.io/en/latest/api.html#gspread.models.Worksheet.append_row\n",
    "\"\"\"\n",
    "\n",
    "prepared_list = [\"hi\", \"I\", \"am\", \"student.\"]\n",
    "\n",
    "work_sheet1.append_row(prepared_list)"
   ]
  },
  {
   "cell_type": "code",
   "execution_count": null,
   "metadata": {},
   "outputs": [],
   "source": [
    "\"\"\"\n",
    "刪除紀錄\n",
    "\n",
    "delete_rows(start_index, end_index=None)\n",
    "\n",
    "https://gspread.readthedocs.io/en/latest/api.html#gspread.models.Worksheet.delete_row\n",
    "\"\"\"\n",
    "\n",
    "work_sheet1.delete_rows(2)  # 刪除第二 row"
   ]
  },
  {
   "cell_type": "code",
   "execution_count": null,
   "metadata": {},
   "outputs": [],
   "source": [
    "\"\"\"\n",
    "搜尋儲存格\n",
    "\n",
    "使用find(query, in_row=None, in_column=None)\n",
    "\n",
    "找出第一個配對到的儲存格\n",
    "\n",
    "\"\"\"\n",
    "\n",
    "cell = work_sheet1.find('來找我')\n",
    "print(cell, cell.row, cell.col, cell.value)\n",
    "\n",
    "\n",
    "# 在特定row 或 column 尋找\n",
    "cell = work_sheet1.find('來找我', in_column=4)\n",
    "print(cell)"
   ]
  },
  {
   "cell_type": "code",
   "execution_count": null,
   "metadata": {},
   "outputs": [],
   "source": [
    "\"\"\"\n",
    "搜尋儲存格\n",
    "\n",
    "全部找出來\n",
    "\n",
    "\"\"\"\n",
    "\n",
    "cell_list = work_sheet1.findall('來找我')\n",
    "print(cell_list)"
   ]
  },
  {
   "cell_type": "code",
   "execution_count": null,
   "metadata": {},
   "outputs": [],
   "source": [
    "\"\"\"\n",
    "更新儲存格\n",
    "\n",
    "第一種 \n",
    "update(range_name, values=None, **kwargs)\n",
    "\n",
    "\n",
    "https://gspread.readthedocs.io/en/latest/api.html#gspread.models.Worksheet.update\n",
    "\"\"\"\n",
    "\n",
    "\n",
    "print(work_sheet1.update('B5', 'Bingo!'))\n"
   ]
  },
  {
   "cell_type": "code",
   "execution_count": null,
   "metadata": {},
   "outputs": [],
   "source": [
    "\"\"\"\n",
    "更新儲存格\n",
    "\n",
    "第二種\n",
    "update_cell(row, col, value)\n",
    "\n",
    "\"\"\"\n",
    "\n",
    "print(work_sheet1.update_cell(2, 5, 'Bingo 2!'))"
   ]
  },
  {
   "cell_type": "code",
   "execution_count": null,
   "metadata": {},
   "outputs": [],
   "source": [
    "\"\"\"\n",
    "範圍更新儲存格\n",
    "\n",
    "準備一個list，裡面裝著list\n",
    "\n",
    "\"\"\"\n",
    "\n",
    "prepared_list_of_list = [[1, 2, 3, 4], [5, 6, 7, 8, 'hey'], [9, 10, 11, 12]]\n",
    "\n",
    "print(work_sheet1.update('A7', prepared_list_of_list))"
   ]
  },
  {
   "cell_type": "code",
   "execution_count": null,
   "metadata": {},
   "outputs": [],
   "source": []
  }
 ],
 "metadata": {
  "kernelspec": {
   "display_name": "Python 3",
   "language": "python",
   "name": "python3"
  },
  "language_info": {
   "codemirror_mode": {
    "name": "ipython",
    "version": 3
   },
   "file_extension": ".py",
   "mimetype": "text/x-python",
   "name": "python",
   "nbconvert_exporter": "python",
   "pygments_lexer": "ipython3",
   "version": "3.6.5"
  }
 },
 "nbformat": 4,
 "nbformat_minor": 2
}
