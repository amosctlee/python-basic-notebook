{
 "cells": [
  {
   "cell_type": "code",
   "execution_count": null,
   "metadata": {},
   "outputs": [],
   "source": [
    "\"\"\"\n",
    "字串與數字的操作中，各位可能已經發現\n",
    "\n",
    "有時候我們要使用: 變數.方法()\n",
    "    ex: str_1.find(), str_2.strip()\n",
    "    \n",
    "有時候我們直接使用: 函數()\n",
    "    ex: print(), input()\n",
    "\n",
    "只要是物件(變數)來操作的，我們稱為方法(method)\n",
    "直接使用的，我們稱為函數(function)\n",
    "\n",
    "Python 幫我們內建了很多好用的函數\n",
    "\n",
    "https://www.w3schools.com/python/python_ref_functions.asp\n",
    "\"\"\""
   ]
  },
  {
   "cell_type": "code",
   "execution_count": null,
   "metadata": {},
   "outputs": [],
   "source": [
    "\"\"\"\n",
    "使用help()，幫助您查詢內建函數的用法\n",
    "\"\"\"\n",
    "\n",
    "help(print)"
   ]
  },
  {
   "cell_type": "code",
   "execution_count": null,
   "metadata": {},
   "outputs": [],
   "source": [
    "\"\"\"\n",
    "進階版print\n",
    "\n",
    "分隔符號參數: sep ，預設為空格\n",
    "結尾符號參數： end ，預設為 \\n ，就是換行的意思\n",
    "\n",
    "\"\"\"\n",
    "\n",
    "print('原始版', '可以', '一次', 'print', '好多東西')\n",
    "\n",
    "# print('加強版', '可以', '用', '符號', '隔開', sep='~~')\n",
    "\n",
    "# print('進階版', '可以', '讓', '結尾', '變得不一樣', sep='~~', end='###')\n",
    "# print('進階版', '可以', '讓', '結尾', '變得不一樣', sep='~~', end='###')\n",
    "# print('進階版', '可以', '讓', '結尾', '變得不一樣', sep='~~', end='###')"
   ]
  },
  {
   "cell_type": "code",
   "execution_count": null,
   "metadata": {},
   "outputs": [],
   "source": [
    "\"\"\"\n",
    "標準輸出與輸入\n",
    "螢幕是我們程式碼的標準輸出\n",
    "鍵盤是我們程式碼的標準輸入\n",
    "\n",
    "\"\"\"\n",
    "\n",
    "print()\n",
    "input()"
   ]
  },
  {
   "cell_type": "code",
   "execution_count": null,
   "metadata": {},
   "outputs": [],
   "source": [
    "\"\"\"\n",
    "想感受物件的存在嗎\n",
    "    請使用id()找出物件的記憶體位置\n",
    "    https://www.w3schools.com/python/ref_func_id.asp\n",
    "\n",
    "你也可以看看此物件的型態 type()\n",
    "\n",
    "\"\"\"\n",
    "\n",
    "x = 100\n",
    "y = 'apple'\n",
    "z = 'banana'\n",
    "\n",
    "print(\n",
    "    id(x),\n",
    "    type(x),\n",
    "    id(y),\n",
    "    type(y),\n",
    "    id(z),\n",
    "    type(z)\n",
    ")"
   ]
  },
  {
   "cell_type": "code",
   "execution_count": null,
   "metadata": {},
   "outputs": [],
   "source": [
    "\"\"\"\n",
    "\n",
    "變數其實指向了物件所在的記憶體位置id()\n",
    "物件擁有型態type()\n",
    "物件擁有value\n",
    "\n",
    "\"\"\""
   ]
  },
  {
   "cell_type": "code",
   "execution_count": null,
   "metadata": {},
   "outputs": [],
   "source": [
    "\"\"\"\n",
    "\n",
    "還有好多內建函數(包含上一篇數字的運算)\n",
    "\n",
    "大家有發現好用的，記得跟我說！\n",
    "\n",
    "\"\"\""
   ]
  },
  {
   "cell_type": "code",
   "execution_count": null,
   "metadata": {},
   "outputs": [],
   "source": []
  }
 ],
 "metadata": {
  "kernelspec": {
   "display_name": "Python 3",
   "language": "python",
   "name": "python3"
  },
  "language_info": {
   "codemirror_mode": {
    "name": "ipython",
    "version": 3
   },
   "file_extension": ".py",
   "mimetype": "text/x-python",
   "name": "python",
   "nbconvert_exporter": "python",
   "pygments_lexer": "ipython3",
   "version": "3.6.5"
  }
 },
 "nbformat": 4,
 "nbformat_minor": 2
}
