{
 "cells": [
  {
   "cell_type": "code",
   "execution_count": null,
   "metadata": {},
   "outputs": [],
   "source": [
    "\"\"\"\n",
    "\n",
    "現實生活中，我們常常根據某些指引來找到答案\n",
    "\n",
    "捷運告示牌，用 出口 找到附近地標\n",
    "\n",
    "日曆，用 日期 找到今天是否放假\n",
    "\n",
    "字典，用 注音或部首 找到詞語\n",
    "\n",
    "\n",
    "\n",
    "\"\"\""
   ]
  },
  {
   "cell_type": "code",
   "execution_count": null,
   "metadata": {},
   "outputs": [],
   "source": [
    "\"\"\"\n",
    "簡單介紹四個 字典dict 的功能\n",
    "\n",
    "建立新字典\n",
    "\n",
    "將資料放入字典\n",
    "\n",
    "從字典找到資料\n",
    "\n",
    "從字典刪除資料\n",
    "\n",
    "\"\"\"\n"
   ]
  },
  {
   "cell_type": "code",
   "execution_count": null,
   "metadata": {},
   "outputs": [],
   "source": [
    "\"\"\"\n",
    "\n",
    "建立字典\n",
    "\n",
    "用大括號 {} 包住資料\n",
    "內容為 key : value\n",
    "每個 key : value 用 , 分開\n",
    "\n",
    "\n",
    "\n",
    "\"\"\"\n",
    "\n",
    "dict_1 = {'name': 'Tom', \n",
    "          'age': 25, \n",
    "          'mobile': '0934111222'}\n",
    "\n",
    "print(dict_1)"
   ]
  },
  {
   "cell_type": "code",
   "execution_count": null,
   "metadata": {},
   "outputs": [],
   "source": [
    "\"\"\"\n",
    "\n",
    "在原有的字典內放入資料\n",
    "\n",
    "origin_dict[new_key] = new_value\n",
    "\n",
    "\"\"\"\n",
    "\n",
    "dict_1 = {'name': 'Tom', \n",
    "          'age': 25, \n",
    "          'mobile': '0934111222'}\n",
    "\n",
    "dict_1['key'] = 'value'\n",
    "\n",
    "print(dict_1)"
   ]
  },
  {
   "cell_type": "code",
   "execution_count": null,
   "metadata": {},
   "outputs": [],
   "source": [
    "\"\"\"\n",
    "\n",
    "有兩種取得value 的方法\n",
    "\n",
    "get(key)\n",
    "    沒找到時回傳 None\n",
    "\n",
    "my_dict[key]\n",
    "    沒找到時 ......\n",
    "\n",
    "\"\"\"\n",
    "\n",
    "dict_1 = {'name': 'Tom', \n",
    "          'age': 25, \n",
    "          'mobile': '0934111222'}\n",
    "\n",
    "\n",
    "\n",
    "print(dict_1.get('name'))\n",
    "\n",
    "# print(dict_1['name'])"
   ]
  },
  {
   "cell_type": "code",
   "execution_count": null,
   "metadata": {},
   "outputs": [],
   "source": [
    "\"\"\"\n",
    "\n",
    "想要刪除其中一個項目，使用關鍵字 del\n",
    "\n",
    "\"\"\"\n",
    "\n",
    "dict_1 = {'name': 'Tom', \n",
    "          'age': 25, \n",
    "          'mobile': '0934111222'}\n",
    "\n",
    "del dict_1['name']\n",
    "\n",
    "print(dict_1)"
   ]
  },
  {
   "cell_type": "code",
   "execution_count": null,
   "metadata": {},
   "outputs": [],
   "source": [
    "\"\"\"\n",
    "\n",
    "看看現在dict 內有多少個項目\n",
    "\n",
    "\"\"\"\n",
    "\n",
    "print(len(dict_1))"
   ]
  },
  {
   "cell_type": "code",
   "execution_count": null,
   "metadata": {},
   "outputs": [],
   "source": [
    "\"\"\"\n",
    "\n",
    "字典也可以搭配迴圈\n",
    "\n",
    "\n",
    "使用 keys() 方法取key\n",
    "\n",
    "使用 values() 方法取value\n",
    "\n",
    "使用 items() 方法取整個item (key, value)\n",
    "\n",
    "\"\"\"\n",
    "\n",
    "\n",
    "for key in dict_1.keys():\n",
    "    print(key)\n",
    "\n",
    "# for value in dict_1.values():\n",
    "#     print(value)\n",
    "\n",
    "# for item in dict_1.items():\n",
    "#     print(item)\n",
    "\n",
    "# # 有兩個值的情況，可以用以下方式操作\n",
    "# for key, value in dict_1.items():\n",
    "#     print(key, value)\n"
   ]
  }
 ],
 "metadata": {
  "kernelspec": {
   "display_name": "Python 3",
   "language": "python",
   "name": "python3"
  },
  "language_info": {
   "codemirror_mode": {
    "name": "ipython",
    "version": 3
   },
   "file_extension": ".py",
   "mimetype": "text/x-python",
   "name": "python",
   "nbconvert_exporter": "python",
   "pygments_lexer": "ipython3",
   "version": "3.6.5"
  }
 },
 "nbformat": 4,
 "nbformat_minor": 2
}
