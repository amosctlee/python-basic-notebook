{
 "cells": [
  {
   "cell_type": "code",
   "execution_count": null,
   "metadata": {},
   "outputs": [],
   "source": [
    "\"\"\"\n",
    "程式碼由三種結構組成\n",
    "\n",
    "平鋪直敘：運算與賦值 (你們已經學會了)\n",
    "x = 1\n",
    "y = x + 3\n",
    "\n",
    "選擇：這是我們要介紹的\n",
    "\n",
    "\n",
    "重複：這是我們要介紹的\n",
    "\n",
    "\n",
    "\"\"\""
   ]
  },
  {
   "cell_type": "code",
   "execution_count": null,
   "metadata": {},
   "outputs": [],
   "source": [
    "\"\"\"\n",
    "有時候我們希望程式碼幫忙判斷應該執行哪些陳述句\n",
    "搭配之前學過的 比較運算子 來使用\n",
    "\n",
    "如果今天是星期三\n",
    "    我就來上課\n",
    "    \n",
    "如果今天不是星期三\n",
    "    我就在家睡覺\n",
    "\n",
    "\"\"\"\n",
    "\n",
    "today = input('請問今天星期幾？')\n",
    "\n",
    "if today == '3':\n",
    "    print('上課')\n",
    "\n",
    "if today != '3':\n",
    "    print('回家睡覺')\n",
    "    "
   ]
  },
  {
   "cell_type": "code",
   "execution_count": null,
   "metadata": {},
   "outputs": [],
   "source": [
    "\"\"\"\n",
    "上面的例子可以用if ... else ... 改寫\n",
    "\n",
    "\"\"\"\n",
    "\n",
    "if today == '3':\n",
    "    print('上課')\n",
    "else:\n",
    "    print('回家睡覺')"
   ]
  },
  {
   "cell_type": "code",
   "execution_count": null,
   "metadata": {},
   "outputs": [],
   "source": [
    "\"\"\"\n",
    "舉一反三，試試以下練習\n",
    "\n",
    "如果考90分以上\n",
    "    我可以吃冰淇淋\n",
    "\n",
    "如果考80分以上\n",
    "    我可以出去玩\n",
    "\n",
    "如果考70分以上\n",
    "    我可以吃糖果\n",
    "\n",
    "\"\"\"\n",
    "\n",
    "my_score = input('我考幾分？')\n",
    "my_score = int(my_score)\n",
    "\n",
    "# if my_score >= 90:\n",
    "#     print('吃冰淇淋')\n",
    "# if my_score >= 80:\n",
    "#     print('出去玩')\n",
    "# if my_score >= 70:\n",
    "#     print('吃糖果')"
   ]
  },
  {
   "cell_type": "code",
   "execution_count": null,
   "metadata": {},
   "outputs": [],
   "source": [
    "\"\"\"\n",
    "在多選一的情況下，使用if ... elif ... else ...\n",
    "\n",
    "\"\"\"\n",
    "\n",
    "my_score = input('我考幾分？')\n",
    "my_score = int(my_score)\n",
    "\n",
    "if my_score >= 90:\n",
    "    print('吃冰淇淋')\n",
    "elif my_score >= 80:\n",
    "    print('出去玩')\n",
    "elif my_score >= 70:\n",
    "    print('吃糖果')\n",
    "else:\n",
    "    print('好像不及格...')"
   ]
  },
  {
   "cell_type": "code",
   "execution_count": null,
   "metadata": {},
   "outputs": [],
   "source": [
    "\"\"\"\n",
    "\n",
    "1. 選擇性敘述的練習-season\n",
    "輸入月份1~12月，判斷相對應的季節春、夏、秋、冬並印出。\n",
    "若不在此範圍則印出”輸入錯誤”。\n",
    "\n",
    "\"\"\"\n",
    "\n"
   ]
  },
  {
   "cell_type": "code",
   "execution_count": null,
   "metadata": {},
   "outputs": [],
   "source": [
    "\"\"\"\n",
    "\n",
    "2.選擇性敘述的練習-salary\n",
    "輸入便利商店工讀生的工作時數，並計算其薪資。\n",
    "60小時以內，時薪120元。\n",
    "61~80小時，以時薪1.25倍計算。\n",
    "81小時以上，以時薪1.5倍計算。\n",
    "說明：薪資以累計方式計算。若工時為90小時，則薪資為60*120 + 20*120*1.25 + 10*120*1.5元。\n",
    "\n",
    "\"\"\"\n",
    "\n"
   ]
  },
  {
   "cell_type": "code",
   "execution_count": null,
   "metadata": {},
   "outputs": [],
   "source": []
  },
  {
   "cell_type": "code",
   "execution_count": null,
   "metadata": {},
   "outputs": [],
   "source": [
    "\"\"\"\n",
    "人類之所以要使用電腦，就是為了節省體力\n",
    "\n",
    "只要是重複的工作\n",
    "\n",
    "我們就可以想辦法讓電腦幫忙完成\n",
    "\n",
    "\"\"\""
   ]
  },
  {
   "cell_type": "code",
   "execution_count": null,
   "metadata": {},
   "outputs": [],
   "source": [
    "\"\"\"\n",
    "從 1 數到 10 ？\n",
    "\n",
    "range()\n",
    "\n",
    "\"\"\"\n",
    "\n",
    "for i in range(10):\n",
    "    print(i)"
   ]
  },
  {
   "cell_type": "code",
   "execution_count": null,
   "metadata": {},
   "outputs": [],
   "source": [
    "\"\"\"\n",
    "從 3 開始數\n",
    "\n",
    "\"\"\"\n",
    "\n",
    "for i in range(3, 10+1):\n",
    "    print(i)"
   ]
  },
  {
   "cell_type": "code",
   "execution_count": null,
   "metadata": {},
   "outputs": [],
   "source": [
    "\"\"\"\n",
    "從 2 開始數，只數偶數\n",
    "\n",
    "\"\"\"\n",
    "\n",
    "for i in range(2, 10+1, 2):\n",
    "    print(i)"
   ]
  },
  {
   "cell_type": "code",
   "execution_count": null,
   "metadata": {},
   "outputs": [],
   "source": [
    "\"\"\"\n",
    "次數不想固定嗎？\n",
    "\n",
    "利用學過的input 來決定次數吧！\n",
    "\n",
    "\"\"\"\n",
    "\n",
    "r = input('你要多少？')\n",
    "r = int(r)\n",
    "\n",
    "for k in range(1, r+1):\n",
    "    print(k, end=' ')\n",
    "    print('little', end=' ')\n",
    "    \n",
    "print('Indians.')"
   ]
  },
  {
   "cell_type": "code",
   "execution_count": null,
   "metadata": {},
   "outputs": [],
   "source": [
    "\"\"\"\n",
    "\n",
    "3. 迴圈敘述的練習-stars\n",
    "\n",
    "請印出星星做成的三角形\n",
    "*\n",
    "**\n",
    "***\n",
    "****\n",
    "*****\n",
    "   ...   \n",
    "    ...\n",
    "    \n",
    "\n",
    "提示：讓字串重複\n",
    "\n",
    "\"\"\"\n",
    "\n"
   ]
  },
  {
   "cell_type": "code",
   "execution_count": null,
   "metadata": {},
   "outputs": [],
   "source": []
  },
  {
   "cell_type": "code",
   "execution_count": null,
   "metadata": {},
   "outputs": [],
   "source": [
    "\"\"\"\n",
    "另一種迴圈\n",
    "\n",
    "迴圈的命運不要由數字決定\n",
    "\n",
    "他想要自己 判斷 何時結束\n",
    "\n",
    "\n",
    "\n",
    "ps. 要是他不結束怎麼辦...  \n",
    "\n",
    "ans: 只好按上面的停止按扭了...\n",
    "\n",
    "\"\"\""
   ]
  },
  {
   "cell_type": "code",
   "execution_count": null,
   "metadata": {},
   "outputs": [],
   "source": [
    "\"\"\"\n",
    "一樣是數到 10\n",
    "當條件為True時執行\n",
    "\n",
    "當條件為False時結束迴圈\n",
    "\"\"\"\n",
    "\n",
    "num = 1\n",
    "while num <= 10:\n",
    "    print(num)\n",
    "    num = num +1\n",
    "    \n",
    "print('迴圈結束了')\n"
   ]
  },
  {
   "cell_type": "code",
   "execution_count": null,
   "metadata": {},
   "outputs": [],
   "source": [
    "\"\"\"\n",
    "練習算出 1~10 的加總\n",
    "\n",
    "\n",
    "\n",
    "    美麗的縮寫\n",
    "    \n",
    "        a += b\n",
    "    是\n",
    "        a = a + b\n",
    "    的縮寫\n",
    "\n",
    "\"\"\"\n",
    "\n",
    "n = 1\n",
    "total = 0\n",
    "\n",
    "while n <= 10:\n",
    "    total += n\n",
    "    n += 1\n",
    "\n",
    "print(total)"
   ]
  },
  {
   "cell_type": "code",
   "execution_count": null,
   "metadata": {},
   "outputs": [],
   "source": [
    "\"\"\"\n",
    "\n",
    "這種判斷型迴圈 通常 含有四個要素\n",
    "\n",
    "初值\n",
    "終止值 (條件)\n",
    "Body (主要程式碼)\n",
    "計次\n",
    "\n",
    "\"\"\"\n",
    "\n",
    "n = 1  # 初值\n",
    "total = 0\n",
    "while n <= 10:  # 終止值\n",
    "    total += n  # Body !\n",
    "    n += 1  # 計次\n",
    "print(total)\n",
    "\n"
   ]
  },
  {
   "cell_type": "code",
   "execution_count": null,
   "metadata": {},
   "outputs": [],
   "source": [
    "\"\"\"\n",
    "倒數計 10 的寫法\n",
    "\n",
    "\"\"\"\n",
    "\n",
    "n = 10  # 初值\n",
    "total = 0\n",
    "while n >= 1:  # 終止值\n",
    "    total += n  # Body !\n",
    "    n -= 1  # 計次\n",
    "print(total)\n",
    "\n",
    "\n",
    "\n",
    "# # 跟for 迴圈做比較\n",
    "# total = 0\n",
    "# for n in range(10, 0, -1):\n",
    "#     total += n  # Body 一樣，效果就一樣\n",
    "# print(total)"
   ]
  },
  {
   "cell_type": "code",
   "execution_count": null,
   "metadata": {},
   "outputs": [],
   "source": [
    "\"\"\"\n",
    "還有一種讓迴圈停止的方式\n",
    "\n",
    "break\n",
    "\n",
    "通常設定一些條件，若達成條件則提早跳出迴圈\n",
    "\n",
    "\"\"\"\n",
    "\n",
    "your_num = input(\"請輸入0~9的數字：\")\n",
    "your_num = int(your_num)\n",
    "\n",
    "for i in range(10):\n",
    "    print(i)\n",
    "    \n",
    "    if i == your_num:\n",
    "        print('我要準備跳出囉！')\n",
    "        break\n",
    "        \n",
    "print('迴圈結束')"
   ]
  },
  {
   "cell_type": "code",
   "execution_count": null,
   "metadata": {},
   "outputs": [],
   "source": [
    "\"\"\"\n",
    "另一個搭配迴圈的關鍵字\n",
    "\n",
    "continue\n",
    "\n",
    "通常設定一些條件，若達成條件則忽略剩餘的迴圈，直接進行下一循環\n",
    "\n",
    "\"\"\"\n",
    "\n",
    "your_num = input(\"請輸入0~9的數字：\")\n",
    "your_num = int(your_num)\n",
    "\n",
    "for i in range(10):\n",
    "    \n",
    "    if i == your_num:\n",
    "        print('這一輪我跳過')\n",
    "        continue\n",
    "        \n",
    "    print(i)"
   ]
  },
  {
   "cell_type": "code",
   "execution_count": null,
   "metadata": {},
   "outputs": [],
   "source": [
    "\"\"\"\n",
    "\n",
    "提款機\n",
    "\n",
    "每個人要領錢之前，必須輸入個人密碼\n",
    "\n",
    "我們來練習製作一台個人專屬提款機\n",
    "\n",
    "\"\"\"\n",
    "\n",
    "your_password = 'abc123'\n",
    "\n",
    "\n",
    "while True:\n",
    "    this_password = input('請輸入密碼：')\n",
    "    \n",
    "    if this_password == your_password:\n",
    "        print('密碼正確，可以領錢囉！')\n",
    "        \n",
    "    else:\n",
    "        print('輸入錯誤，請重新輸入！')\n",
    "        continue\n",
    "    \n",
    "    print('--- 開始領錢 ---')\n",
    "    print('--- 步驟省略 ---')\n",
    "    print('--- 謝謝使用 ---')\n",
    "    \n",
    "#     is_stop = input('是否繼續提款?')\n",
    "#     if is_stop == 'no':\n",
    "#         break"
   ]
  },
  {
   "cell_type": "code",
   "execution_count": null,
   "metadata": {},
   "outputs": [],
   "source": [
    "\"\"\"\n",
    "\n",
    "4. 迴圏的練習-password\n",
    "\n",
    "出現”請輸入密碼”的提示，使用者有最多三次輸入的機會。\n",
    "若輸入正確，則印出”密碼輸入正確，歡迎使用本系統！”。\n",
    "若輸入不正確，再次出現”請輸入密碼”的提示。\n",
    "若三次輸入不正確，則印出”密碼輸入超過三次！”，並結束程式的執行。\n",
    "\n",
    "\"\"\""
   ]
  },
  {
   "cell_type": "code",
   "execution_count": null,
   "metadata": {},
   "outputs": [],
   "source": []
  },
  {
   "cell_type": "code",
   "execution_count": null,
   "metadata": {},
   "outputs": [],
   "source": [
    "\"\"\"\n",
    "神奇的一項操作\n",
    "\n",
    "\n",
    "搭配字串來使用\n",
    "\n",
    "\"\"\"\n",
    "\n",
    "str1 = 'Hello World!'\n",
    "print(len(str1))\n",
    "\n",
    "\n",
    "x = 0\n",
    "for i in str1:\n",
    "    print(i, end=',')\n",
    "    x += 1\n",
    "\n",
    "print()\n",
    "print(x)\n",
    "\n",
    "\n",
    "# # range範圍會減 1，是因為以下迴圈方便使用\n",
    "# for i in range(0, len(str1)):\n",
    "#     print(i, str1[i])\n",
    "# print()\n"
   ]
  },
  {
   "cell_type": "code",
   "execution_count": null,
   "metadata": {},
   "outputs": [],
   "source": []
  },
  {
   "cell_type": "code",
   "execution_count": null,
   "metadata": {},
   "outputs": [],
   "source": []
  },
  {
   "cell_type": "code",
   "execution_count": null,
   "metadata": {},
   "outputs": [],
   "source": []
  },
  {
   "cell_type": "code",
   "execution_count": null,
   "metadata": {},
   "outputs": [],
   "source": []
  },
  {
   "cell_type": "code",
   "execution_count": null,
   "metadata": {},
   "outputs": [],
   "source": []
  },
  {
   "cell_type": "code",
   "execution_count": null,
   "metadata": {},
   "outputs": [],
   "source": []
  },
  {
   "cell_type": "code",
   "execution_count": null,
   "metadata": {},
   "outputs": [],
   "source": []
  },
  {
   "cell_type": "code",
   "execution_count": null,
   "metadata": {},
   "outputs": [],
   "source": []
  },
  {
   "cell_type": "code",
   "execution_count": null,
   "metadata": {},
   "outputs": [],
   "source": []
  },
  {
   "cell_type": "code",
   "execution_count": null,
   "metadata": {},
   "outputs": [],
   "source": []
  },
  {
   "cell_type": "code",
   "execution_count": null,
   "metadata": {},
   "outputs": [],
   "source": []
  },
  {
   "cell_type": "code",
   "execution_count": null,
   "metadata": {},
   "outputs": [],
   "source": []
  },
  {
   "cell_type": "code",
   "execution_count": null,
   "metadata": {},
   "outputs": [],
   "source": []
  },
  {
   "cell_type": "code",
   "execution_count": null,
   "metadata": {},
   "outputs": [],
   "source": []
  },
  {
   "cell_type": "code",
   "execution_count": null,
   "metadata": {},
   "outputs": [],
   "source": []
  },
  {
   "cell_type": "code",
   "execution_count": null,
   "metadata": {},
   "outputs": [],
   "source": []
  },
  {
   "cell_type": "code",
   "execution_count": null,
   "metadata": {},
   "outputs": [],
   "source": []
  },
  {
   "cell_type": "code",
   "execution_count": null,
   "metadata": {},
   "outputs": [],
   "source": []
  },
  {
   "cell_type": "code",
   "execution_count": null,
   "metadata": {},
   "outputs": [],
   "source": []
  },
  {
   "cell_type": "code",
   "execution_count": null,
   "metadata": {},
   "outputs": [],
   "source": []
  },
  {
   "cell_type": "code",
   "execution_count": null,
   "metadata": {},
   "outputs": [],
   "source": []
  },
  {
   "cell_type": "code",
   "execution_count": null,
   "metadata": {},
   "outputs": [],
   "source": []
  },
  {
   "cell_type": "code",
   "execution_count": null,
   "metadata": {},
   "outputs": [],
   "source": []
  },
  {
   "cell_type": "code",
   "execution_count": null,
   "metadata": {},
   "outputs": [],
   "source": [
    "\"\"\"\n",
    "參考答案1: \n",
    "\n",
    "x = input('輸入月份:')\n",
    "x = int(x)\n",
    "if 0 < x < 4:\n",
    "    print('春')\n",
    "elif 4 <= x < 7:\n",
    "    print('夏')\n",
    "elif 7 <= x < 10:\n",
    "    print('秋')\n",
    "elif 10 <= x <= 12:\n",
    "    print('冬')\n",
    "else:\n",
    "    print('輸入錯誤')\n",
    "\n",
    "\"\"\""
   ]
  },
  {
   "cell_type": "code",
   "execution_count": null,
   "metadata": {},
   "outputs": [],
   "source": [
    "\"\"\"\n",
    "參考答案2: \n",
    "\n",
    "x = input('請輸入工作時數:')\n",
    "x = int(x)\n",
    "\n",
    "if 0 < x <= 60:\n",
    "    total = x*120\n",
    "    print('工時{}小時，薪資{}元。'.format(x, total))\n",
    "elif 60 < x <= 80:\n",
    "    total = 60*120 + (x-60)*120*1.25 \n",
    "    print('工時{}小時，薪資{}元。'.format(x, total))\n",
    "elif x > 80:\n",
    "    total = 60*120 + (80-60)*120*1.25 + (x-80)*120*1.5\n",
    "    print('工時{}小時，薪資{}元。'.format(x, total))\n",
    "else:\n",
    "    print('請輸入正確工時!')\n",
    "\n",
    "\"\"\""
   ]
  },
  {
   "cell_type": "code",
   "execution_count": null,
   "metadata": {},
   "outputs": [],
   "source": [
    "\"\"\"\n",
    "參考答案3: \n",
    "\n",
    "layers = input('你要畫幾層？')\n",
    "layers = int(layers)\n",
    "\n",
    "for i in range(1, layers+1):\n",
    "    print(\"*\" * i)\n",
    "    \n",
    "\"\"\""
   ]
  },
  {
   "cell_type": "code",
   "execution_count": null,
   "metadata": {},
   "outputs": [],
   "source": [
    "\"\"\"\n",
    "參考答案4: \n",
    "\n",
    "x = int(input('please input your password:'))\n",
    "password = 123\n",
    "y = 0\n",
    "while True:\n",
    "    if x != password:\n",
    "        y += 1\n",
    "        if y == 3:\n",
    "            print('密碼輸入超過三次!')\n",
    "            break\n",
    "        else:\n",
    "            x = int(input('password incorrect, please try again:'))\n",
    "    else:\n",
    "        print('password is correct, welcome to the system!')\n",
    "        break\n",
    "\n",
    "\"\"\""
   ]
  }
 ],
 "metadata": {
  "kernelspec": {
   "display_name": "Python 3",
   "language": "python",
   "name": "python3"
  },
  "language_info": {
   "codemirror_mode": {
    "name": "ipython",
    "version": 3
   },
   "file_extension": ".py",
   "mimetype": "text/x-python",
   "name": "python",
   "nbconvert_exporter": "python",
   "pygments_lexer": "ipython3",
   "version": "3.6.5"
  }
 },
 "nbformat": 4,
 "nbformat_minor": 2
}
