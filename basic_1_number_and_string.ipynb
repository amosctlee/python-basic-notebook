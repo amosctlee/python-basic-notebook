{
 "cells": [
  {
   "cell_type": "code",
   "execution_count": null,
   "metadata": {},
   "outputs": [],
   "source": [
    "\"\"\"\n",
    "介紹字串與常用函數：print()\n",
    "\n",
    "字串是一種非常常用的python 基本資料型態\n",
    "\"雙引號內\" 或 '單引號內' 都是字串\n",
    "\n",
    "\"\"\"\n",
    "\n",
    "a_1 = \"這是字串\"\n",
    "a_2 = '一樣是字串'\n",
    "\n",
    "print(a_1)\n",
    "print(a_2)\n"
   ]
  },
  {
   "cell_type": "code",
   "execution_count": null,
   "metadata": {},
   "outputs": [],
   "source": [
    "\"\"\"\n",
    "檢查資料型態，我們可以使用type()\n",
    "\n",
    "\"\"\"\n",
    "\n",
    "b_1 = '15'\n",
    "b_2 = 15\n",
    "\n",
    "print(b_1)\n",
    "# print(type(b_1))\n",
    "\n",
    "print(b_2)\n",
    "# print(type(b_2))"
   ]
  },
  {
   "cell_type": "code",
   "execution_count": null,
   "metadata": {},
   "outputs": [],
   "source": [
    "\"\"\"\n",
    "有兩種常用的數字型態\n",
    "int 與 float\n",
    "\n",
    "\n",
    "float 精準度 https://docs.python.org/3/tutorial/floatingpoint.html\n",
    "\n",
    "\"\"\"\n",
    "\n",
    "c_1 = 5\n",
    "c_2 = 5.5\n",
    "\n",
    "print(c_1)\n",
    "print(type(c_1))\n",
    "\n",
    "print(c_2)\n",
    "print(type(c_2))\n"
   ]
  },
  {
   "cell_type": "code",
   "execution_count": null,
   "metadata": {},
   "outputs": [],
   "source": [
    "\"\"\"\n",
    "讓python 幫你算數學\n",
    "寫程式要會的加減乘除\n",
    "+  -  *  / \n",
    "\n",
    "\"\"\"\n",
    "\n",
    "print(15 + 5.7)\n",
    "\n",
    "print(15 - 5.7)\n",
    "\n",
    "print(15 * 2)\n",
    "\n",
    "print(15 / 2)"
   ]
  },
  {
   "cell_type": "code",
   "execution_count": null,
   "metadata": {},
   "outputs": [],
   "source": [
    "\"\"\"\n",
    "還有兩種好用的運算\n",
    "整除 與 餘數\n",
    "//  %\n",
    "\n",
    "\"\"\"\n",
    "\n",
    "print(15 // 2)\n",
    "\n",
    "print(15 % 2)"
   ]
  },
  {
   "cell_type": "code",
   "execution_count": null,
   "metadata": {},
   "outputs": [],
   "source": [
    "\"\"\"\n",
    "字串也有加法與乘法？！\n",
    "\n",
    "\"\"\"\n",
    "\n",
    "print(\"嗨，你好！\" + \"我在上課\")\n",
    "\n",
    "# print(\"喂~\" * 5)"
   ]
  },
  {
   "cell_type": "code",
   "execution_count": null,
   "metadata": {},
   "outputs": [],
   "source": [
    "\"\"\"\n",
    "字串與數字在操作時要小心\n",
    "\n",
    "\"\"\"\n",
    "\n",
    "x_1 = 10\n",
    "x_2 = '3'\n",
    "# print(x_1 + x_2)  # TypeError: unsupported operand type(s) for +: 'int' and 'str'\n",
    "\n",
    "y_1 = 'give me '\n",
    "y_2 = 5\n",
    "# print(y_1 + y_2)  # TypeError: must be str, not int\n"
   ]
  },
  {
   "cell_type": "code",
   "execution_count": null,
   "metadata": {},
   "outputs": [],
   "source": [
    "\"\"\"\n",
    "要對不同型態的變數做運算前\n",
    "請先改變他們的型態\n",
    "使用：int() 與 str()\n",
    "\n",
    "\"\"\"\n",
    "\n",
    "x_1 = 10\n",
    "x_2 = '3'\n",
    "print(x_1 + int(x_2))\n",
    "\n",
    "# y_1 = 'give me '\n",
    "# y_2 = 5\n",
    "# print(y_1 + str(y_2))"
   ]
  },
  {
   "cell_type": "code",
   "execution_count": null,
   "metadata": {},
   "outputs": [],
   "source": [
    "\"\"\"\n",
    "想跟你寫的程式互動嗎？\n",
    "\n",
    "請使用 input()\n",
    "\"\"\"\n",
    "\n",
    "user_say = input(\"請問今天星期幾？\")\n",
    "\n",
    "print(\"今天星期\" + user_say)\n",
    "\n",
    "# print(type(user_say))"
   ]
  },
  {
   "cell_type": "code",
   "execution_count": null,
   "metadata": {},
   "outputs": [],
   "source": [
    "\"\"\"\n",
    "檢查字串中含不含有特定字串\n",
    "Yes or No\n",
    "True or False\n",
    "\n",
    "使用 in\n",
    "\n",
    "\"\"\"\n",
    "\n",
    "str1 = 'I love Python, Python is a simple langue.'\n",
    "print('Python' in str1)\n",
    "\n",
    "# print('veP' in str1)\n",
    "# print('ve Py' in str1)\n",
    "# print('' in str1)\n",
    "\n",
    "\n",
    "# 恭喜你們學會了第三種資料型態：bool (布林值)\n",
    "# print(type(True))\n",
    "# print(type(False))"
   ]
  },
  {
   "cell_type": "code",
   "execution_count": null,
   "metadata": {},
   "outputs": [],
   "source": [
    "\"\"\"\n",
    "\n",
    "---  中場休息  ---\n",
    "我們目前學會了 數字、字串和布林 三種型態\n",
    "\n",
    "每種資料型態都會有各自專屬的用法\n",
    "接下來我們繼續往下看\n",
    "\n",
    "\n",
    "\"\"\""
   ]
  },
  {
   "cell_type": "code",
   "execution_count": null,
   "metadata": {},
   "outputs": [],
   "source": [
    "\"\"\"\n",
    "身為一位優秀的學生\n",
    "我們一定不能只會加減乘除\n",
    "大於 >\n",
    "小於 <\n",
    "大於等於 >=\n",
    "小於等於 <=\n",
    "等於 ==\n",
    "不等於 !=\n",
    "\n",
    "\"\"\"\n",
    "\n",
    "print(3 > 4)\n",
    "\n",
    "print(2 == 3)\n",
    "\n",
    "# print(2 <= 3 <= 4)"
   ]
  },
  {
   "cell_type": "code",
   "execution_count": null,
   "metadata": {},
   "outputs": [],
   "source": [
    "\"\"\"\n",
    "最大值，最小值\n",
    "\n",
    "\"\"\"\n",
    "\n",
    "x = min(5, 10, 25)\n",
    "y = max(5, 10, 25)\n",
    "\n",
    "# print(x)\n",
    "# print(y)"
   ]
  },
  {
   "cell_type": "code",
   "execution_count": null,
   "metadata": {},
   "outputs": [],
   "source": [
    "\"\"\"\n",
    "絕對值\n",
    "\n",
    "\"\"\"\n",
    "\n",
    "x = abs(-7.25)\n",
    "\n",
    "print(x)"
   ]
  },
  {
   "cell_type": "code",
   "execution_count": null,
   "metadata": {},
   "outputs": [],
   "source": [
    "\"\"\"\n",
    "四捨五入\n",
    "\n",
    "\"\"\"\n",
    "\n",
    "x = round(123.456)\n",
    "print(x)\n",
    "\n",
    "y = round(123.456, 2)\n",
    "print(y)\n",
    "\n",
    "z = round(-123.456, 1)\n",
    "print(z)"
   ]
  },
  {
   "cell_type": "code",
   "execution_count": null,
   "metadata": {},
   "outputs": [],
   "source": [
    "\"\"\"\n",
    "幾次方?\n",
    "power\n",
    "\n",
    "\"\"\"\n",
    "\n",
    "\n",
    "print(pow(2, 3))  # 2 的 3 次方\n",
    "\n",
    "print(pow(3, 2))  # 3 的 2 次方\n",
    "\n",
    "\n",
    "# 也可以 ** 表示乘方\n",
    "# print(3 ** 4)"
   ]
  },
  {
   "cell_type": "code",
   "execution_count": null,
   "metadata": {},
   "outputs": [],
   "source": [
    "\"\"\"\n",
    "字串是有順序排列的字元\n",
    "每個字元都有一個位置，稱為索引\n",
    "索引從 0 開始計算\n",
    "\n",
    "我們可以用中括號與索引值取出部分的字串內容\n",
    "\n",
    "\"\"\"\n",
    "\n",
    "str1 = 'Hello World'\n",
    "print(str1[0])  # 從頭開始數第一位\n",
    "print(str1[-1])  # 從後面開始數第一位\n",
    "\n",
    "print(str1[0:5])  # 也可以用冒號表示範圍\n",
    "\n",
    "\n",
    "# print(str1[6:])\n",
    "# print(str1[:5])\n",
    "# print(str1[-4:])\n",
    "# print(str1[6:-3])"
   ]
  },
  {
   "cell_type": "code",
   "execution_count": null,
   "metadata": {},
   "outputs": [],
   "source": [
    "\"\"\"\n",
    "python 有一系列字串常用的方法\n",
    "\n",
    "例如：檢查字串長度、找出關鍵字、連接字串、字串格式化......\n",
    "\n",
    "我們挑出幾種常用的來練習！\n",
    "\n",
    "https://www.w3schools.com/python/python_ref_string.asp\n",
    "\"\"\"\n",
    "\n",
    "# find()  找出關鍵字所在的位置(從左邊開始數)，找不到就回應 -1\n",
    "txt = \"機器人好可怕，我不知道他在想什麼\"\n",
    "\n",
    "x = txt.find(\"我\")\n",
    "y = txt.find(\"你\")\n",
    "\n",
    "print(x)\n",
    "print(y)\n",
    "\n",
    "# 檢查看看找出來的索引對不對\n",
    "# print(txt[7])\n"
   ]
  },
  {
   "cell_type": "code",
   "execution_count": null,
   "metadata": {},
   "outputs": [],
   "source": [
    "\"\"\"\n",
    "字串 format  把字串當成固定的模板，將變數帶入模板使用\n",
    "在字串中使用大括號 {}，讓變數可以放進去\n",
    "\n",
    "超級好用，不騙你！\n",
    "\n",
    "\"\"\"\n",
    "\n",
    "\n",
    "str_template = \"{} little, {} little, {} little Indians\"\n",
    "\n",
    "print(str_template.format(\"one\", \"two\", \"three\"))\n",
    "\n"
   ]
  },
  {
   "cell_type": "code",
   "execution_count": null,
   "metadata": {},
   "outputs": [],
   "source": [
    "\"\"\"\n",
    "字串 format 2\n",
    "使用關鍵字來帶入模板\n",
    "\n",
    "\"\"\"\n",
    "\n",
    "print('{total_sec}秒={min}分{sec}秒'.format(total_sec=345, min=345//60, sec=345%60))"
   ]
  },
  {
   "cell_type": "code",
   "execution_count": null,
   "metadata": {},
   "outputs": [],
   "source": [
    "\"\"\"\n",
    "strip()\n",
    "移除字串前後特定符號，預設為移除空白\n",
    "\n",
    "\"\"\"\n",
    "str1 = \"     我最喜歡用空白來排版     \"\n",
    "print(str1.lstrip())  # 去除左邊空白\n",
    "print(str1.rstrip())  # 去除右邊空白\n",
    "print(str1.strip())  # 去除兩邊空白"
   ]
  },
  {
   "cell_type": "code",
   "execution_count": null,
   "metadata": {},
   "outputs": [],
   "source": [
    "\"\"\"\n",
    "練習看看，移除左邊多餘的 0\n",
    "\n",
    "\"\"\"\n",
    "\n",
    "s = '00001234'\n",
    "\n",
    "# print(s.lstrip('0'))"
   ]
  },
  {
   "cell_type": "code",
   "execution_count": null,
   "metadata": {},
   "outputs": [],
   "source": [
    "\"\"\"\n",
    "開頭與結尾\n",
    "\n",
    "有時候我們希望找出所有開頭或結尾為 xxx 的字串\n",
    "\n",
    "\"\"\"\n",
    "\n",
    "str1 = 'helloworld.py'\n",
    "print(str1.startswith('hello'))\n",
    "print(str1.endswith('.py'))\n",
    "\n",
    "# print(str1.startswith('hi'))\n",
    "# print(str1.endswith('.java'))"
   ]
  },
  {
   "cell_type": "code",
   "execution_count": 4,
   "metadata": {},
   "outputs": [
    {
     "name": "stdout",
     "output_type": "stream",
     "text": [
      "用戶說了一句話，他說我很醜！\n"
     ]
    }
   ],
   "source": [
    "\"\"\"\n",
    "替換掉不喜歡的字\n",
    "\n",
    "replace(old, new[, max])\n",
    "\n",
    "\"\"\"\n",
    "\n",
    "str1 = \"用戶說了一句話，他說我很醜！\"\n",
    "\n",
    "print(str1)\n",
    "\n",
    "\n",
    "# # 準備替換\n",
    "# str2 = str1.replace(\"醜\", \"帥\")\n",
    "\n",
    "# print(str2)"
   ]
  },
  {
   "cell_type": "code",
   "execution_count": null,
   "metadata": {},
   "outputs": [],
   "source": [
    "\"\"\"\n",
    "進階版\n",
    "判斷字串內容\n",
    "\n",
    "\n",
    "ps. 在英文中很好用，不過中文....\n",
    "\n",
    "\"\"\"\n",
    "\n",
    "str2 = \"abcdefg123\"\n",
    "\n",
    "print(str2.isalnum())  # 是否為字母或數字\n",
    "print(str2.isalpha())  # 是否全為字母\n",
    "print(str2.isdigit())  # 是否全為數字\n"
   ]
  },
  {
   "cell_type": "code",
   "execution_count": null,
   "metadata": {},
   "outputs": [],
   "source": []
  },
  {
   "cell_type": "code",
   "execution_count": null,
   "metadata": {},
   "outputs": [],
   "source": []
  }
 ],
 "metadata": {
  "kernelspec": {
   "display_name": "Python 3",
   "language": "python",
   "name": "python3"
  },
  "language_info": {
   "codemirror_mode": {
    "name": "ipython",
    "version": 3
   },
   "file_extension": ".py",
   "mimetype": "text/x-python",
   "name": "python",
   "nbconvert_exporter": "python",
   "pygments_lexer": "ipython3",
   "version": "3.8.3"
  }
 },
 "nbformat": 4,
 "nbformat_minor": 2
}
