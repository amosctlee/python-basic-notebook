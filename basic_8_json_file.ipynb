{
 "cells": [
  {
   "cell_type": "code",
   "execution_count": null,
   "metadata": {},
   "outputs": [],
   "source": [
    "\"\"\"\n",
    "\n",
    "JSON的基本資料類型：\n",
    "    數值\n",
    "    字串\n",
    "    布林值\n",
    "    值的有序列表（array）\n",
    "    物件（object）\n",
    "    null類型\n",
    "\n",
    "https://zh.wikipedia.org/wiki/JSON\n",
    "\"\"\""
   ]
  },
  {
   "cell_type": "code",
   "execution_count": null,
   "metadata": {},
   "outputs": [],
   "source": [
    "\"\"\"\n",
    "\n",
    "Python 中，處理JSON 格式的套件：json\n",
    "\n",
    "有四種主要用法：\n",
    "\n",
    "1. json 格式的字串 -> 轉換為python 中的物件\n",
    "2. python 中的物件 -> 轉換為json 格式的字串\n",
    "3. 讀取json 檔 -> 轉換為python 中的物件\n",
    "4. python 中的物件 -> 轉換為json 格式檔\n",
    "\n",
    "https://docs.python.org/3/library/json.html#basic-usage\n",
    "\n",
    "\"\"\""
   ]
  },
  {
   "cell_type": "code",
   "execution_count": null,
   "metadata": {},
   "outputs": [],
   "source": [
    "\"\"\"\n",
    "1. json 格式的字串 -> 轉換為python 中的物件\n",
    "\n",
    "json array -> list\n",
    "\n",
    "\"\"\"\n",
    "\n",
    "import json\n",
    "\n",
    "json_str_1 = \"[1,2,3,4,5,6]\"\n",
    "print(json_str_1, type(json_str_1))\n",
    "\n",
    "# print(json_str_1[0])  # 現在是一個字串，所以第0個位置是\n",
    "\n",
    "py_obj = json.loads(json_str_1)\n",
    "print(py_obj, type(py_obj))\n",
    "\n",
    "# print(py_obj[0])  # 現在是一個list，所以第0個位置是"
   ]
  },
  {
   "cell_type": "code",
   "execution_count": null,
   "metadata": {},
   "outputs": [],
   "source": [
    "\"\"\"\n",
    "1. json 格式的字串 -> 轉換為python 中的物件\n",
    "\n",
    "json object -> dict\n",
    "\n",
    "\"\"\"\n",
    "\n",
    "import json\n",
    "\n",
    "json_str_2 = '{\"jsonNumber\": 1, \"jsonString\": \"this is a string\"}'\n",
    "print(json_str_2, type(json_str_2))\n",
    "\n",
    "# print(json_str_2.get('jsonNumber'))  # 現在是一個字串，所以使用get方法時會出錯\n",
    "\n",
    "\n",
    "py_obj = json.loads(json_str_2)\n",
    "print(py_obj, type(py_obj))\n",
    "\n",
    "# print(py_obj.get('jsonNumber'))  # 現在是一個dict，所以使用get方法來取得內容"
   ]
  },
  {
   "cell_type": "code",
   "execution_count": null,
   "metadata": {},
   "outputs": [],
   "source": [
    "\"\"\"\n",
    "2. python 中的物件 -> 轉換為json 格式的字串\n",
    "\n",
    "\"\"\"\n",
    "\n",
    "# dict -> json object\n",
    "py_dict_obj = {\"name\": \"Thomas\", \n",
    "               \"age\": 5}\n",
    "print(py_dict_obj, type(py_dict_obj))\n",
    "\n",
    "# json_str = json.dumps(py_dict_obj)\n",
    "# print(json_str, type(json_str))\n",
    "\n",
    "\n",
    "# # list -> json array\n",
    "# py_list_obj = ['a', 'p', 'p', 'l', 'e']\n",
    "# print(py_list_obj, type(py_list_obj))\n",
    "\n",
    "# json_str = json.dumps(py_list_obj)\n",
    "# print(json_str, type(json_str))\n"
   ]
  },
  {
   "cell_type": "code",
   "execution_count": null,
   "metadata": {},
   "outputs": [],
   "source": [
    "\"\"\"\n",
    "3. 讀取json 檔 -> 轉換為python 中的物件\n",
    "\n",
    "\"\"\"\n",
    "\n",
    "with open(\"line_secret_key\",'r',encoding=\"utf-8\") as f:\n",
    "    py_obj_from_file = json.load(f)\n",
    "    \n",
    "print(py_obj_from_file, type(py_obj_from_file))\n",
    "\n",
    "print(py_obj_from_file.get('channel_access_token'))\n",
    "print(py_obj_from_file.get('secret_key'))"
   ]
  },
  {
   "cell_type": "code",
   "execution_count": null,
   "metadata": {},
   "outputs": [],
   "source": [
    "\"\"\"\n",
    "4. python 中的物件 -> 轉換為json 格式檔\n",
    "\n",
    "其實要把json格式資料存成檔案有兩種做法\n",
    "    1. 直接 json.dump(python物件, 檔案)\n",
    "    2. 先 json.dumps() 變成字串後，再寫入檔案\n",
    "\n",
    "\"\"\"\n",
    "\n",
    "# 第一種\n",
    "with open('testing.json', 'w', encoding='utf-8') as f:\n",
    "    py_obj = [\n",
    "                {\"name\": \"Thomas\", \"nickname\":\"the Tank Engine\", \"age\": 7},\n",
    "                {\"name\": \"Gordon\", \"nickname\":\"the Big Engine\", \"age\": 6},\n",
    "                {\"name\": \"Percy\", \"nickname\":\"the Small Engine\", \"age\": 5}\n",
    "             ]\n",
    "    json.dump(py_obj, f)\n",
    "    \n",
    "\n",
    "# # 第二種\n",
    "# for i in py_obj:   \n",
    "#     with open('testing_2.json', 'a', encoding='utf-8') as f:\n",
    "#         print(i)\n",
    "#         json_string = json.dumps(i)\n",
    "#         print(json_string)\n",
    "#         f.write(json_string + \"\\n\")"
   ]
  },
  {
   "cell_type": "code",
   "execution_count": null,
   "metadata": {},
   "outputs": [],
   "source": []
  },
  {
   "cell_type": "code",
   "execution_count": null,
   "metadata": {},
   "outputs": [],
   "source": []
  },
  {
   "cell_type": "code",
   "execution_count": null,
   "metadata": {},
   "outputs": [],
   "source": []
  },
  {
   "cell_type": "code",
   "execution_count": null,
   "metadata": {},
   "outputs": [],
   "source": []
  },
  {
   "cell_type": "code",
   "execution_count": null,
   "metadata": {},
   "outputs": [],
   "source": []
  }
 ],
 "metadata": {
  "kernelspec": {
   "display_name": "Python 3",
   "language": "python",
   "name": "python3"
  },
  "language_info": {
   "codemirror_mode": {
    "name": "ipython",
    "version": 3
   },
   "file_extension": ".py",
   "mimetype": "text/x-python",
   "name": "python",
   "nbconvert_exporter": "python",
   "pygments_lexer": "ipython3",
   "version": "3.6.5"
  }
 },
 "nbformat": 4,
 "nbformat_minor": 2
}
